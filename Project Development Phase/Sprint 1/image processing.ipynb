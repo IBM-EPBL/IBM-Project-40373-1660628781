{
 "cells": [
  {
   "cell_type": "code",
   "execution_count": null,
   "id": "5ed770c9",
   "metadata": {},
   "outputs": [],
   "source": [
    "from keras.preprocessing.image import ImageDataGenerator\n",
    "\n"
   ]
  },
  {
   "cell_type": "code",
   "execution_count": null,
   "id": "568b6a75",
   "metadata": {},
   "outputs": [],
   "source": [
    "#setting parameter for Image Data agumentation to the traing data\n",
    "\n",
    "train_datagen = ImageDataGenerator (rescale=1./255, shear_range=2,zoom_range=0.2,horizontal_flip=True)\n",
    "\n",
    "#Image Data ogumentation to the testing data\n",
    "\n",
    "test_datagen ImageDataGenerator(rescale=1./255)"
   ]
  },
  {
   "cell_type": "code",
   "execution_count": null,
   "id": "3775c20c",
   "metadata": {},
   "outputs": [],
   "source": [
    "### Loading our data and performing data agumentation\n",
    "\n",
    "#performing data agumentation to train data x_train = train_datagen. flow_from_directory(\n",
    "\n",
    "      r'C:\\Users\\DELL\\Desktop\\Desk Files\\Nutrition Analysis Using Image Classification\\DataSet\\TRAIN_SET, target_size=(64, 64), batch_size=5,color_mode='rgb',class_mode='sparse\")\n",
    "\n",
    "      performing data agumentation to test data\n",
    "\n",
    "x_test = test_datagen.flow_from_directory(\n",
    "\n",
    "     r\"C:\\Users\\DELL\\Desktop\\Desk Files\\Nutrition Analysis Using Image Classification\\DataSet\\TEST_SET',\n",
    "       target_size=(64, 64), batch_size=5,color_de='rgb',class_mode='sparse\")"
   ]
  },
  {
   "cell_type": "code",
   "execution_count": 2,
   "id": "b5e52428",
   "metadata": {},
   "outputs": [
    {
     "ename": "NameError",
     "evalue": "name 'x_train' is not defined",
     "output_type": "error",
     "traceback": [
      "\u001b[1;31m---------------------------------------------------------------------------\u001b[0m",
      "\u001b[1;31mNameError\u001b[0m                                 Traceback (most recent call last)",
      "Input \u001b[1;32mIn [2]\u001b[0m, in \u001b[0;36m<cell line: 1>\u001b[1;34m()\u001b[0m\n\u001b[1;32m----> 1\u001b[0m \u001b[38;5;28mprint\u001b[39m(\u001b[43mx_train\u001b[49m\u001b[38;5;241m.\u001b[39mclass_indices)\n",
      "\u001b[1;31mNameError\u001b[0m: name 'x_train' is not defined"
     ]
    }
   ],
   "source": [
    "print(x_train.class_indices) # cheking the number of classes"
   ]
  },
  {
   "cell_type": "code",
   "execution_count": null,
   "id": "f9035381",
   "metadata": {},
   "outputs": [],
   "source": []
  },
  {
   "cell_type": "code",
   "execution_count": null,
   "id": "e324a9cb",
   "metadata": {},
   "outputs": [],
   "source": []
  }
 ],
 "metadata": {
  "kernelspec": {
   "display_name": "Python 3 (ipykernel)",
   "language": "python",
   "name": "python3"
  },
  "language_info": {
   "codemirror_mode": {
    "name": "ipython",
    "version": 3
   },
   "file_extension": ".py",
   "mimetype": "text/x-python",
   "name": "python",
   "nbconvert_exporter": "python",
   "pygments_lexer": "ipython3",
   "version": "3.9.12"
  }
 },
 "nbformat": 4,
 "nbformat_minor": 5
}
